{
 "cells": [
  {
   "cell_type": "code",
   "execution_count": 1,
   "metadata": {},
   "outputs": [],
   "source": [
    "from pairs_trading.models.bases import TimeSeries, TechIndicators\n",
    "from pairs_trading.models.indicators import SimpleMovingAverage\n",
    "from pairs_trading.models.assets import Asset\n",
    "from pairs_trading.pipelines.indicators import TechnicalIndicatorsPipeline\n",
    "\n",
    "import matplotlib.pyplot as plt\n",
    "\n",
    "from datetime import datetime"
   ]
  },
  {
   "cell_type": "code",
   "execution_count": 2,
   "metadata": {},
   "outputs": [],
   "source": [
    "def clean_column_names(column_names):\n",
    "    res = []\n",
    "    for col in column_names:\n",
    "        res.append(col.split('.')[-1].lstrip())\n",
    "    return res\n",
    "\n",
    "def get_data(ticker='goog'):\n",
    "    ts = TimeSeries(output_format='pandas')\n",
    "    df, meta = ts.get_daily(ticker)\n",
    "    return df, meta\n",
    "\n",
    "def create_init_data(ticker='goog'):\n",
    "    df, meta = get_data(ticker)\n",
    "    df.reset_index(inplace=True)\n",
    "    df.columns = clean_column_names(list(df.columns))\n",
    "    data = [Asset.create(**df.iloc[idx].to_dict()) for idx in range(len(df))][::-1]\n",
    "    return data"
   ]
  },
  {
   "cell_type": "code",
   "execution_count": 3,
   "metadata": {},
   "outputs": [],
   "source": [
    "pipeline = TechnicalIndicatorsPipeline(20, 50)"
   ]
  },
  {
   "cell_type": "code",
   "execution_count": 13,
   "metadata": {
    "scrolled": true
   },
   "outputs": [],
   "source": [
    "goog = create_init_data(ticker='goog')\n",
    "aapl = create_init_data(ticker='vxx')"
   ]
  },
  {
   "cell_type": "code",
   "execution_count": 14,
   "metadata": {},
   "outputs": [],
   "source": [
    "pipeline.initialize(goog, aapl)"
   ]
  },
  {
   "cell_type": "code",
   "execution_count": 17,
   "metadata": {},
   "outputs": [
    {
     "data": {
      "text/plain": [
       "1.0190876482608495"
      ]
     },
     "execution_count": 17,
     "metadata": {},
     "output_type": "execute_result"
    }
   ],
   "source": [
    "pipeline.zscore"
   ]
  },
  {
   "cell_type": "code",
   "execution_count": 41,
   "metadata": {},
   "outputs": [],
   "source": [
    "plot_data = []\n",
    "price_data = []\n",
    "meta = []\n",
    "for data in viz_data: \n",
    "    sma.append(data)\n",
    "    plot_data.append(sma.latest_sma)\n",
    "    price_data.append(data.close)\n",
    "    meta.append(data.date)"
   ]
  },
  {
   "cell_type": "code",
   "execution_count": 42,
   "metadata": {},
   "outputs": [
    {
     "data": {
      "text/plain": [
       "([<matplotlib.axis.XTick at 0x7fbc60019ca0>,\n",
       "  <matplotlib.axis.XTick at 0x7fbc60019c70>,\n",
       "  <matplotlib.axis.XTick at 0x7fbc804d8880>,\n",
       "  <matplotlib.axis.XTick at 0x7fbc6003bd00>,\n",
       "  <matplotlib.axis.XTick at 0x7fbc60043250>,\n",
       "  <matplotlib.axis.XTick at 0x7fbc60043760>,\n",
       "  <matplotlib.axis.XTick at 0x7fbc60043c70>,\n",
       "  <matplotlib.axis.XTick at 0x7fbc600481c0>,\n",
       "  <matplotlib.axis.XTick at 0x7fbc600486d0>,\n",
       "  <matplotlib.axis.XTick at 0x7fbc600432e0>,\n",
       "  <matplotlib.axis.XTick at 0x7fbc600482e0>,\n",
       "  <matplotlib.axis.XTick at 0x7fbc60048be0>,\n",
       "  <matplotlib.axis.XTick at 0x7fbc6004f130>,\n",
       "  <matplotlib.axis.XTick at 0x7fbc6004f640>,\n",
       "  <matplotlib.axis.XTick at 0x7fbc6004fb50>,\n",
       "  <matplotlib.axis.XTick at 0x7fbc600540a0>,\n",
       "  <matplotlib.axis.XTick at 0x7fbc600545b0>,\n",
       "  <matplotlib.axis.XTick at 0x7fbc6004f880>,\n",
       "  <matplotlib.axis.XTick at 0x7fbc60048910>,\n",
       "  <matplotlib.axis.XTick at 0x7fbc60054880>,\n",
       "  <matplotlib.axis.XTick at 0x7fbc60054d00>,\n",
       "  <matplotlib.axis.XTick at 0x7fbc92be3250>,\n",
       "  <matplotlib.axis.XTick at 0x7fbc92be3760>,\n",
       "  <matplotlib.axis.XTick at 0x7fbc92be3c70>,\n",
       "  <matplotlib.axis.XTick at 0x7fbc92be71c0>,\n",
       "  <matplotlib.axis.XTick at 0x7fbc92be76d0>,\n",
       "  <matplotlib.axis.XTick at 0x7fbc92be39a0>,\n",
       "  <matplotlib.axis.XTick at 0x7fbc60054100>,\n",
       "  <matplotlib.axis.XTick at 0x7fbc92be7af0>,\n",
       "  <matplotlib.axis.XTick at 0x7fbc92be7d90>,\n",
       "  <matplotlib.axis.XTick at 0x7fbc92bf02e0>,\n",
       "  <matplotlib.axis.XTick at 0x7fbc92bf07f0>,\n",
       "  <matplotlib.axis.XTick at 0x7fbc92bf0d00>,\n",
       "  <matplotlib.axis.XTick at 0x7fbc92bf5250>,\n",
       "  <matplotlib.axis.XTick at 0x7fbc92bf5760>,\n",
       "  <matplotlib.axis.XTick at 0x7fbc92bf0a30>,\n",
       "  <matplotlib.axis.XTick at 0x7fbc92be7220>,\n",
       "  <matplotlib.axis.XTick at 0x7fbc92bf5b80>,\n",
       "  <matplotlib.axis.XTick at 0x7fbc92bf5e20>,\n",
       "  <matplotlib.axis.XTick at 0x7fbc92bfd370>,\n",
       "  <matplotlib.axis.XTick at 0x7fbc92bfd880>,\n",
       "  <matplotlib.axis.XTick at 0x7fbc92bfdd90>,\n",
       "  <matplotlib.axis.XTick at 0x7fbc92c032e0>,\n",
       "  <matplotlib.axis.XTick at 0x7fbc92c03820>,\n",
       "  <matplotlib.axis.XTick at 0x7fbc92bfdac0>,\n",
       "  <matplotlib.axis.XTick at 0x7fbc92bf52b0>,\n",
       "  <matplotlib.axis.XTick at 0x7fbc92c03c40>,\n",
       "  <matplotlib.axis.XTick at 0x7fbc92c03ee0>,\n",
       "  <matplotlib.axis.XTick at 0x7fbc92c0a430>,\n",
       "  <matplotlib.axis.XTick at 0x7fbc92c0a940>,\n",
       "  <matplotlib.axis.XTick at 0x7fbc92c0ae50>,\n",
       "  <matplotlib.axis.XTick at 0x7fbc92c0f3a0>,\n",
       "  <matplotlib.axis.XTick at 0x7fbc92c0f8b0>,\n",
       "  <matplotlib.axis.XTick at 0x7fbc92c0aac0>,\n",
       "  <matplotlib.axis.XTick at 0x7fbc92c03400>,\n",
       "  <matplotlib.axis.XTick at 0x7fbc92c0fb80>,\n",
       "  <matplotlib.axis.XTick at 0x7fbc92c0ff70>,\n",
       "  <matplotlib.axis.XTick at 0x7fbc92c184c0>,\n",
       "  <matplotlib.axis.XTick at 0x7fbc92c189d0>,\n",
       "  <matplotlib.axis.XTick at 0x7fbc92c18ee0>,\n",
       "  <matplotlib.axis.XTick at 0x7fbca0f29430>,\n",
       "  <matplotlib.axis.XTick at 0x7fbca0f29940>,\n",
       "  <matplotlib.axis.XTick at 0x7fbc92c18a90>,\n",
       "  <matplotlib.axis.XTick at 0x7fbc92c0f5e0>,\n",
       "  <matplotlib.axis.XTick at 0x7fbca0f29640>,\n",
       "  <matplotlib.axis.XTick at 0x7fbca0f29fa0>,\n",
       "  <matplotlib.axis.XTick at 0x7fbca0f2f4f0>,\n",
       "  <matplotlib.axis.XTick at 0x7fbca0f2fa00>,\n",
       "  <matplotlib.axis.XTick at 0x7fbca0f2ff10>,\n",
       "  <matplotlib.axis.XTick at 0x7fbca0f35460>,\n",
       "  <matplotlib.axis.XTick at 0x7fbca0f35970>,\n",
       "  <matplotlib.axis.XTick at 0x7fbca0f2fac0>,\n",
       "  <matplotlib.axis.XTick at 0x7fbca0f295b0>,\n",
       "  <matplotlib.axis.XTick at 0x7fbca0f35dc0>,\n",
       "  <matplotlib.axis.XTick at 0x7fbca0f3c070>,\n",
       "  <matplotlib.axis.XTick at 0x7fbca0f3c580>,\n",
       "  <matplotlib.axis.XTick at 0x7fbca0f3ca30>,\n",
       "  <matplotlib.axis.XTick at 0x7fbca0f3cf40>,\n",
       "  <matplotlib.axis.XTick at 0x7fbca0f42490>,\n",
       "  <matplotlib.axis.XTick at 0x7fbca0f429a0>],\n",
       " [Text(0, 0, '2020-12-18 00:00:00'),\n",
       "  Text(1, 0, '2020-12-21 00:00:00'),\n",
       "  Text(2, 0, '2020-12-22 00:00:00'),\n",
       "  Text(3, 0, '2020-12-23 00:00:00'),\n",
       "  Text(4, 0, '2020-12-24 00:00:00'),\n",
       "  Text(5, 0, '2020-12-28 00:00:00'),\n",
       "  Text(6, 0, '2020-12-29 00:00:00'),\n",
       "  Text(7, 0, '2020-12-30 00:00:00'),\n",
       "  Text(8, 0, '2020-12-31 00:00:00'),\n",
       "  Text(9, 0, '2021-01-04 00:00:00'),\n",
       "  Text(10, 0, '2021-01-05 00:00:00'),\n",
       "  Text(11, 0, '2021-01-06 00:00:00'),\n",
       "  Text(12, 0, '2021-01-07 00:00:00'),\n",
       "  Text(13, 0, '2021-01-08 00:00:00'),\n",
       "  Text(14, 0, '2021-01-11 00:00:00'),\n",
       "  Text(15, 0, '2021-01-12 00:00:00'),\n",
       "  Text(16, 0, '2021-01-13 00:00:00'),\n",
       "  Text(17, 0, '2021-01-14 00:00:00'),\n",
       "  Text(18, 0, '2021-01-15 00:00:00'),\n",
       "  Text(19, 0, '2021-01-19 00:00:00'),\n",
       "  Text(20, 0, '2021-01-20 00:00:00'),\n",
       "  Text(21, 0, '2021-01-21 00:00:00'),\n",
       "  Text(22, 0, '2021-01-22 00:00:00'),\n",
       "  Text(23, 0, '2021-01-25 00:00:00'),\n",
       "  Text(24, 0, '2021-01-26 00:00:00'),\n",
       "  Text(25, 0, '2021-01-27 00:00:00'),\n",
       "  Text(26, 0, '2021-01-28 00:00:00'),\n",
       "  Text(27, 0, '2021-01-29 00:00:00'),\n",
       "  Text(28, 0, '2021-02-01 00:00:00'),\n",
       "  Text(29, 0, '2021-02-02 00:00:00'),\n",
       "  Text(30, 0, '2021-02-03 00:00:00'),\n",
       "  Text(31, 0, '2021-02-04 00:00:00'),\n",
       "  Text(32, 0, '2021-02-05 00:00:00'),\n",
       "  Text(33, 0, '2021-02-08 00:00:00'),\n",
       "  Text(34, 0, '2021-02-09 00:00:00'),\n",
       "  Text(35, 0, '2021-02-10 00:00:00'),\n",
       "  Text(36, 0, '2021-02-11 00:00:00'),\n",
       "  Text(37, 0, '2021-02-12 00:00:00'),\n",
       "  Text(38, 0, '2021-02-16 00:00:00'),\n",
       "  Text(39, 0, '2021-02-17 00:00:00'),\n",
       "  Text(40, 0, '2021-02-18 00:00:00'),\n",
       "  Text(41, 0, '2021-02-19 00:00:00'),\n",
       "  Text(42, 0, '2021-02-22 00:00:00'),\n",
       "  Text(43, 0, '2021-02-23 00:00:00'),\n",
       "  Text(44, 0, '2021-02-24 00:00:00'),\n",
       "  Text(45, 0, '2021-02-25 00:00:00'),\n",
       "  Text(46, 0, '2021-02-26 00:00:00'),\n",
       "  Text(47, 0, '2021-03-01 00:00:00'),\n",
       "  Text(48, 0, '2021-03-02 00:00:00'),\n",
       "  Text(49, 0, '2021-03-03 00:00:00'),\n",
       "  Text(50, 0, '2021-03-04 00:00:00'),\n",
       "  Text(51, 0, '2021-03-05 00:00:00'),\n",
       "  Text(52, 0, '2021-03-08 00:00:00'),\n",
       "  Text(53, 0, '2021-03-09 00:00:00'),\n",
       "  Text(54, 0, '2021-03-10 00:00:00'),\n",
       "  Text(55, 0, '2021-03-11 00:00:00'),\n",
       "  Text(56, 0, '2021-03-12 00:00:00'),\n",
       "  Text(57, 0, '2021-03-15 00:00:00'),\n",
       "  Text(58, 0, '2021-03-16 00:00:00'),\n",
       "  Text(59, 0, '2021-03-17 00:00:00'),\n",
       "  Text(60, 0, '2021-03-18 00:00:00'),\n",
       "  Text(61, 0, '2021-03-19 00:00:00'),\n",
       "  Text(62, 0, '2021-03-22 00:00:00'),\n",
       "  Text(63, 0, '2021-03-23 00:00:00'),\n",
       "  Text(64, 0, '2021-03-24 00:00:00'),\n",
       "  Text(65, 0, '2021-03-25 00:00:00'),\n",
       "  Text(66, 0, '2021-03-26 00:00:00'),\n",
       "  Text(67, 0, '2021-03-29 00:00:00'),\n",
       "  Text(68, 0, '2021-03-30 00:00:00'),\n",
       "  Text(69, 0, '2021-03-31 00:00:00'),\n",
       "  Text(70, 0, '2021-04-01 00:00:00'),\n",
       "  Text(71, 0, '2021-04-05 00:00:00'),\n",
       "  Text(72, 0, '2021-04-06 00:00:00'),\n",
       "  Text(73, 0, '2021-04-07 00:00:00'),\n",
       "  Text(74, 0, '2021-04-08 00:00:00'),\n",
       "  Text(75, 0, '2021-04-09 00:00:00'),\n",
       "  Text(76, 0, '2021-04-12 00:00:00'),\n",
       "  Text(77, 0, '2021-04-13 00:00:00'),\n",
       "  Text(78, 0, '2021-04-14 00:00:00'),\n",
       "  Text(79, 0, '2021-04-15 00:00:00')])"
      ]
     },
     "execution_count": 42,
     "metadata": {},
     "output_type": "execute_result"
    },
    {
     "data": {
      "image/png": "[encoded data removed]",
      "text/plain": [
       "<Figure size 432x288 with 1 Axes>"
      ]
     },
     "metadata": {
      "needs_background": "light"
     },
     "output_type": "display_data"
    }
   ],
   "source": [
    "plt.plot(plot_data)\n",
    "plt.plot(price_data)\n",
    "plt.xticks(range(len(meta)), meta)"
   ]
  },
  {
   "cell_type": "code",
   "execution_count": 22,
   "metadata": {},
   "outputs": [
    {
     "data": {
      "text/plain": [
       "(             01. symbol   02. open   03. high    04. low  05. price  \\\n",
       " Global Quote       GOOG  2276.9800  2306.5965  2266.0000  2296.6600   \n",
       " \n",
       "              06. volume 07. latest trading day 08. previous close 09. change  \\\n",
       " Global Quote    1373612             2021-04-15          2254.8400    41.8200   \n",
       " \n",
       "              10. change percent  \n",
       " Global Quote            1.8547%  ,\n",
       " None)"
      ]
     },
     "execution_count": 22,
     "metadata": {},
     "output_type": "execute_result"
    }
   ],
   "source": [
    "ts = TimeSeries(output_format='pandas')\n",
    "ts.get_quote_endpoint('goog')"
   ]
  },
  {
   "cell_type": "code",
   "execution_count": 12,
   "metadata": {},
   "outputs": [
    {
     "data": {
      "text/plain": [
       "[1780.055,\n",
       " 1779.914,\n",
       " 1779.346,\n",
       " 1777.521,\n",
       " 1775.892,\n",
       " 1775.037,\n",
       " 1774.936,\n",
       " 1772.007,\n",
       " 1768.2035,\n",
       " 1763.277,\n",
       " 1758.9235,\n",
       " 1754.714,\n",
       " 1753.149,\n",
       " 1754.303,\n",
       " 1753.8725,\n",
       " 1752.1115,\n",
       " 1751.8285,\n",
       " 1750.449,\n",
       " 1749.1085,\n",
       " 1751.2565,\n",
       " 1759.051,\n",
       " 1766.645,\n",
       " 1775.5225,\n",
       " 1783.8735,\n",
       " 1792.793,\n",
       " 1795.528,\n",
       " 1800.7475,\n",
       " 1805.5585,\n",
       " 1813.032,\n",
       " 1822.9955,\n",
       " 1839.453,\n",
       " 1855.807,\n",
       " 1871.3445,\n",
       " 1885.6295,\n",
       " 1901.469,\n",
       " 1918.9105,\n",
       " 1935.985,\n",
       " 1954.1815,\n",
       " 1973.467,\n",
       " 1990.3395,\n",
       " 2001.8545,\n",
       " 2012.349,\n",
       " 2020.5405,\n",
       " 2029.1135,\n",
       " 2038.01,\n",
       " 2048.0385,\n",
       " 2056.726,\n",
       " 2069.0145,\n",
       " 2077.739,\n",
       " 2082.699,\n",
       " 2081.65,\n",
       " 2083.9585,\n",
       " 2080.267,\n",
       " 2078.2565,\n",
       " 2076.8325,\n",
       " 2077.802,\n",
       " 2076.1035,\n",
       " 2074.2225,\n",
       " 2072.7535,\n",
       " 2070.892,\n",
       " 2066.843,\n",
       " 2063.946,\n",
       " 2062.6315,\n",
       " 2061.7365,\n",
       " 2059.231,\n",
       " 2059.881,\n",
       " 2059.8155,\n",
       " 2058.5375,\n",
       " 2057.5225,\n",
       " 2059.6185,\n",
       " 2064.0515,\n",
       " 2069.902,\n",
       " 2079.931,\n",
       " 2089.78,\n",
       " 2100.3005,\n",
       " 2108.856,\n",
       " 2118.4995,\n",
       " 2128.5385,\n",
       " 2136.6545,\n",
       " 2146.9335]"
      ]
     },
     "execution_count": 12,
     "metadata": {},
     "output_type": "execute_result"
    }
   ],
   "source": [
    "df['SMA'][-80:].to_list()"
   ]
  }
 ],
 "metadata": {
  "kernelspec": {
   "display_name": "Python 3",
   "language": "python",
   "name": "python3"
  },
  "language_info": {
   "codemirror_mode": {
    "name": "ipython",
    "version": 3
   },
   "file_extension": ".py",
   "mimetype": "text/x-python",
   "name": "python",
   "nbconvert_exporter": "python",
   "pygments_lexer": "ipython3",
   "version": "3.8.5"
  }
 },
 "nbformat": 4,
 "nbformat_minor": 4
}
